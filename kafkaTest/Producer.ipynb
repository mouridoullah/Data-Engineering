{
 "cells": [
  {
   "cell_type": "code",
   "execution_count": null,
   "metadata": {},
   "outputs": [],
   "source": [
    "from kafka import KafkaProducer\n",
    "from faker import Faker\n",
    "import json\n",
    "import random\n",
    "import time\n",
    "\n",
    "# Configuration du producteur Kafka\n",
    "producer = KafkaProducer(bootstrap_servers='localhost:9092',\n",
    "                         value_serializer=lambda v: json.dumps(v).encode('utf-8'))\n",
    "\n",
    "# Topic vers lequel produire les messages\n",
    "topic = 'quickstart-events'\n",
    "\n",
    "# Création d'une instance Faker pour générer des villes fictives\n",
    "faker = Faker()\n",
    "\n",
    "# Fonction pour générer des données météorologiques aléatoires\n",
    "def generate_weather_data():\n",
    "    while True:\n",
    "        # Générer des données météorologiques aléatoires pour une ville fictive\n",
    "        ville = faker.city()\n",
    "        temperature = round(random.uniform(-20, 40), 2)  # Température en Celsius\n",
    "        humidite = round(random.uniform(0, 100), 2)  # Pourcentage d'humidité\n",
    "        \n",
    "        # Créer un objet JSON contenant les données météorologiques avec le topic spécifié\n",
    "        data = {\n",
    "            'topic': topic,\n",
    "            'ville': ville,\n",
    "            'temperature': temperature,\n",
    "            'humidite': humidite\n",
    "        }\n",
    "        \n",
    "        # Production des données vers le topic Kafka\n",
    "        producer.send(topic, value=data)\n",
    "        print(\"Données envoyées pour la ville de {}: Température {}°C, Humidité {}%\".format(ville, temperature, humidite))\n",
    "        \n",
    "        # Attendre un court instant avant de générer les prochaines données\n",
    "        time.sleep(3)\n",
    "\n",
    "# Appel de la fonction pour générer des données météorologiques\n",
    "generate_weather_data()\n"
   ]
  }
 ],
 "metadata": {
  "kernelspec": {
   "display_name": "base",
   "language": "python",
   "name": "python3"
  },
  "language_info": {
   "codemirror_mode": {
    "name": "ipython",
    "version": 3
   },
   "file_extension": ".py",
   "mimetype": "text/x-python",
   "name": "python",
   "nbconvert_exporter": "python",
   "pygments_lexer": "ipython3",
   "version": "3.11.7"
  }
 },
 "nbformat": 4,
 "nbformat_minor": 2
}
