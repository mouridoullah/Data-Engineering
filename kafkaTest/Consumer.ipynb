{
 "cells": [
  {
   "cell_type": "code",
   "execution_count": null,
   "metadata": {},
   "outputs": [],
   "source": [
    "import csv\n",
    "import json\n",
    "from kafka import KafkaConsumer\n",
    "\n",
    "# Configuration du consommateur Kafka\n",
    "consumer = KafkaConsumer('quickstart-events',\n",
    "                         bootstrap_servers='localhost:9092',\n",
    "                         auto_offset_reset='latest')\n",
    "\n",
    "# Création du fichier CSV et écriture de l'en-tête\n",
    "with open('weather_data.csv', 'w', newline='') as csvfile:\n",
    "    fieldnames = ['topic', 'ville', 'temperature', 'humidite']\n",
    "    writer = csv.DictWriter(csvfile, fieldnames=fieldnames)\n",
    "    writer.writeheader()\n",
    "\n",
    "    # Consommation des messages à partir du topic Kafka\n",
    "    for message in consumer:\n",
    "        # Convertir la chaîne de caractères JSON en dictionnaire\n",
    "        data = json.loads(message.value)\n",
    "        \n",
    "        # Accédez aux attributs du dictionnaire\n",
    "        topic = data['topic']\n",
    "        ville = data['ville']\n",
    "        temperature = data['temperature']\n",
    "        humidite = data['humidite']\n",
    "        \n",
    "        # Écrire les données dans le fichier CSV\n",
    "        writer.writerow({'topic': topic, 'ville': ville, 'temperature': temperature, 'humidite': humidite})\n",
    "\n",
    "        # Affichez les données\n",
    "        print(\"Données enregistrées dans le fichier CSV :\")\n",
    "        print(\"Topic:\", topic)\n",
    "        print(\"Ville:\", ville)\n",
    "        print(\"Température:\", temperature, \"°C\")\n",
    "        print(\"Humidité:\", humidite, \"%\")\n",
    "        print(\"-\" * 30)\n",
    "\n",
    "# Fermeture du consommateur Kafka\n",
    "consumer.close()"
   ]
  }
 ],
 "metadata": {
  "kernelspec": {
   "display_name": "base",
   "language": "python",
   "name": "python3"
  },
  "language_info": {
   "codemirror_mode": {
    "name": "ipython",
    "version": 3
   },
   "file_extension": ".py",
   "mimetype": "text/x-python",
   "name": "python",
   "nbconvert_exporter": "python",
   "pygments_lexer": "ipython3",
   "version": "3.11.7"
  }
 },
 "nbformat": 4,
 "nbformat_minor": 2
}
